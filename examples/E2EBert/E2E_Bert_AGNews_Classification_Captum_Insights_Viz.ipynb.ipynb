{
 "cells": [
  {
   "cell_type": "markdown",
   "metadata": {},
   "source": [
    "### Captum Visual Insights for Finetuned AG News Classification  model from the BERT Pretrained Model "
   ]
  },
  {
   "cell_type": "markdown",
   "metadata": {},
   "source": [
    "This Notebook helps you to get started with the Captum Insights. In this example, we have finetuned the BERT pre-trained model using feature extraction for AG News classification which classifies the given input in one of the following classes (\"world\", \"Sports\", \"Business\", \"Sci/Tech\"). We have showcased that how we can visualize the word importances and attributions.We can visualize Captum Insights normally and making a request on torchserve as well as shown  in this notebook"
   ]
  },
  {
   "cell_type": "code",
   "execution_count": 3,
   "metadata": {},
   "outputs": [],
   "source": [
    "!mlflow deployments predict --name news_classification_test --target torchserve --input-path input.json --output-path bert_prediction_output.json"
   ]
  },
  {
   "cell_type": "code",
   "execution_count": 4,
   "metadata": {},
   "outputs": [
    {
     "name": "stdout",
     "output_type": "stream",
     "text": [
      "\"\\\"Business\\\"\""
     ]
    }
   ],
   "source": [
    "! cat bert_prediction_output.json"
   ]
  },
  {
   "cell_type": "code",
   "execution_count": 25,
   "metadata": {},
   "outputs": [],
   "source": [
    "!mlflow deployments explain --name news_classification_test --target torchserve --input-path input.json --output-path bert_explanation_output.json"
   ]
  },
  {
   "cell_type": "code",
   "execution_count": 26,
   "metadata": {},
   "outputs": [
    {
     "name": "stdout",
     "output_type": "stream",
     "text": [
      "\"{\\n  \\\"words\\\": [\\n    \\\"this\\\",\\n    \\\"year\\\",\\n    \\\"business\\\",\\n    \\\"is\\\",\\n    \\\"good\\\"\\n  ],\\n  \\\"importances\\\": [\\n    0.026999072020006464,\\n    0.4472419670206138,\\n    0.607592509685662,\\n    -0.6073303341425822,\\n    0.24744066046171273\\n  ],\\n  \\\"delta\\\": 0.0017185753788282465\\n}\""
     ]
    }
   ],
   "source": [
    "! cat bert_explanation_output.json"
   ]
  },
  {
   "cell_type": "code",
   "execution_count": 30,
   "metadata": {},
   "outputs": [
    {
     "data": {
      "text/plain": [
       "{'words': ['this', 'year', 'business', 'is', 'good'],\n",
       " 'importances': [0.026999072020006464,\n",
       "  0.4472419670206138,\n",
       "  0.607592509685662,\n",
       "  -0.6073303341425822,\n",
       "  0.24744066046171273],\n",
       " 'delta': 0.0017185753788282465}"
      ]
     },
     "execution_count": 30,
     "metadata": {},
     "output_type": "execute_result"
    }
   ],
   "source": [
    "with open(\"./bert_explanation_output.json\", \"r\") as fp:\n",
    "    explanations_json = json.load(fp)\n",
    "explanations_json = json.loads(explanations_json)\n",
    "\n",
    "explanations_json\n"
   ]
  },
  {
   "cell_type": "code",
   "execution_count": 43,
   "metadata": {},
   "outputs": [
    {
     "data": {
      "text/plain": [
       "'Business'"
      ]
     },
     "execution_count": 43,
     "metadata": {},
     "output_type": "execute_result"
    }
   ],
   "source": [
    "prediction_json = json.loads(open(\"./bert_prediction_output.json\", \"r\").read())\n",
    "prediction_json = json.loads(prediction_json)\n",
    "prediction_json"
   ]
  },
  {
   "cell_type": "code",
   "execution_count": 44,
   "metadata": {},
   "outputs": [],
   "source": [
    "import torch\n",
    "attributions = explanations_json['importances']\n",
    "tokens = explanations_json['words']\n",
    "delta = explanations_json['delta']\n",
    "\n",
    "attributions = torch.tensor(attributions)\n",
    "pred_prob = 0.75\n",
    "pred_class = prediction_json\n",
    "true_class = \"Business\"\n",
    "attr_class =\"world\""
   ]
  },
  {
   "cell_type": "code",
   "execution_count": 45,
   "metadata": {},
   "outputs": [],
   "source": [
    "from captum.attr import visualization\n",
    "vis_data_records =[]\n",
    "vis_data_records.append(visualization.VisualizationDataRecord(\n",
    "                            attributions,\n",
    "                            pred_prob,\n",
    "                            pred_class,\n",
    "                            true_class,\n",
    "                            attr_class,\n",
    "                            attributions.sum(),       \n",
    "                            tokens,\n",
    "                            delta))"
   ]
  },
  {
   "cell_type": "code",
   "execution_count": 46,
   "metadata": {
    "scrolled": true
   },
   "outputs": [
    {
     "data": {
      "text/html": [
       "<table width: 100%><div style=\"border-top: 1px solid; margin-top: 5px;             padding-top: 5px; display: inline-block\"><b>Legend: </b><span style=\"display: inline-block; width: 10px; height: 10px;                 border: 1px solid; background-color:                 hsl(0, 75%, 60%)\"></span> Negative  <span style=\"display: inline-block; width: 10px; height: 10px;                 border: 1px solid; background-color:                 hsl(0, 75%, 100%)\"></span> Neutral  <span style=\"display: inline-block; width: 10px; height: 10px;                 border: 1px solid; background-color:                 hsl(120, 75%, 50%)\"></span> Positive  </div><tr><th>True Label</th><th>Predicted Label</th><th>Attribution Label</th><th>Attribution Score</th><th>Word Importance</th><tr><td><text style=\"padding-right:2em\"><b>Business</b></text></td><td><text style=\"padding-right:2em\"><b>Business (0.75)</b></text></td><td><text style=\"padding-right:2em\"><b>world</b></text></td><td><text style=\"padding-right:2em\"><b>0.72</b></text></td><td><mark style=\"background-color: hsl(120, 75%, 99%); opacity:1.0;                     line-height:1.75\"><font color=\"black\"> this                    </font></mark><mark style=\"background-color: hsl(120, 75%, 78%); opacity:1.0;                     line-height:1.75\"><font color=\"black\"> year                    </font></mark><mark style=\"background-color: hsl(120, 75%, 70%); opacity:1.0;                     line-height:1.75\"><font color=\"black\"> business                    </font></mark><mark style=\"background-color: hsl(0, 75%, 76%); opacity:1.0;                     line-height:1.75\"><font color=\"black\"> is                    </font></mark><mark style=\"background-color: hsl(120, 75%, 88%); opacity:1.0;                     line-height:1.75\"><font color=\"black\"> good                    </font></mark></td><tr></table>"
      ],
      "text/plain": [
       "<IPython.core.display.HTML object>"
      ]
     },
     "metadata": {},
     "output_type": "display_data"
    }
   ],
   "source": [
    "vis = visualization.visualize_text(vis_data_records)"
   ]
  }
 ],
 "metadata": {
  "kernelspec": {
   "display_name": "Python 3",
   "language": "python",
   "name": "python3"
  },
  "language_info": {
   "codemirror_mode": {
    "name": "ipython",
    "version": 3
   },
   "file_extension": ".py",
   "mimetype": "text/x-python",
   "name": "python",
   "nbconvert_exporter": "python",
   "pygments_lexer": "ipython3",
   "version": "3.8.2"
  },
  "widgets": {
   "application/vnd.jupyter.widget-state+json": {
    "state": {
     "02c84e89a0284804b4fc06bec870f8a8": {
      "model_module": "@jupyter-widgets/controls",
      "model_module_version": "1.5.0",
      "model_name": "FloatProgressModel",
      "state": {
       "bar_style": "success",
       "layout": "IPY_MODEL_67099009e09f4a80b627c8bafb0340f8",
       "max": 28,
       "style": "IPY_MODEL_198f8bb0d894427a871b49703c696efd",
       "value": 28
      }
     },
     "198f8bb0d894427a871b49703c696efd": {
      "model_module": "@jupyter-widgets/controls",
      "model_module_version": "1.5.0",
      "model_name": "ProgressStyleModel",
      "state": {
       "description_width": ""
      }
     },
     "1e02e02a329545519649b51aa733276c": {
      "model_module": "@jupyter-widgets/controls",
      "model_module_version": "1.5.0",
      "model_name": "HTMLModel",
      "state": {
       "layout": "IPY_MODEL_6d6b74ceefec40fd95f0c14b0de80cbd",
       "style": "IPY_MODEL_22d3c8168cce4cf7b5e3470245c7d736",
       "value": "Downloading: 100%"
      }
     },
     "22d3c8168cce4cf7b5e3470245c7d736": {
      "model_module": "@jupyter-widgets/controls",
      "model_module_version": "1.5.0",
      "model_name": "DescriptionStyleModel",
      "state": {
       "description_width": ""
      }
     },
     "232bf73daa9746bda241adc11d23be45": {
      "model_module": "@jupyter-widgets/controls",
      "model_module_version": "1.5.0",
      "model_name": "HTMLModel",
      "state": {
       "layout": "IPY_MODEL_cebe6bac285b4737847592da351d8b2a",
       "style": "IPY_MODEL_8a83cb139613484f9525b57a5f6608b3",
       "value": " 466k/466k [00:02&lt;00:00, 204kB/s]"
      }
     },
     "382d7459914248ce921c86d3cd321381": {
      "model_module": "@jupyter-widgets/controls",
      "model_module_version": "1.5.0",
      "model_name": "HBoxModel",
      "state": {
       "children": [
        "IPY_MODEL_3ac50eb773264c4297979069925b0fbf",
        "IPY_MODEL_02c84e89a0284804b4fc06bec870f8a8",
        "IPY_MODEL_69233443a00b4ed4b8e872b31db50e9b"
       ],
       "layout": "IPY_MODEL_51a3ec3203ad4486af126a94dd2773ed"
      }
     },
     "3ac50eb773264c4297979069925b0fbf": {
      "model_module": "@jupyter-widgets/controls",
      "model_module_version": "1.5.0",
      "model_name": "HTMLModel",
      "state": {
       "layout": "IPY_MODEL_fa60245a05394190b5ec49f6c86343c0",
       "style": "IPY_MODEL_3dddbe5dcf394eee99f459ac890e7da4",
       "value": "Downloading: 100%"
      }
     },
     "3dddbe5dcf394eee99f459ac890e7da4": {
      "model_module": "@jupyter-widgets/controls",
      "model_module_version": "1.5.0",
      "model_name": "DescriptionStyleModel",
      "state": {
       "description_width": ""
      }
     },
     "4c3de2869899423ebd214153464e3030": {
      "model_module": "@jupyter-widgets/controls",
      "model_module_version": "1.5.0",
      "model_name": "ProgressStyleModel",
      "state": {
       "description_width": ""
      }
     },
     "51a3ec3203ad4486af126a94dd2773ed": {
      "model_module": "@jupyter-widgets/base",
      "model_module_version": "1.2.0",
      "model_name": "LayoutModel",
      "state": {}
     },
     "67099009e09f4a80b627c8bafb0340f8": {
      "model_module": "@jupyter-widgets/base",
      "model_module_version": "1.2.0",
      "model_name": "LayoutModel",
      "state": {}
     },
     "69233443a00b4ed4b8e872b31db50e9b": {
      "model_module": "@jupyter-widgets/controls",
      "model_module_version": "1.5.0",
      "model_name": "HTMLModel",
      "state": {
       "layout": "IPY_MODEL_99886d58e1864fe799b2cfa32d35e77e",
       "style": "IPY_MODEL_a17f01faa69c4c52919b78c84d99e005",
       "value": " 28.0/28.0 [00:00&lt;00:00, 576B/s]"
      }
     },
     "6d6b74ceefec40fd95f0c14b0de80cbd": {
      "model_module": "@jupyter-widgets/base",
      "model_module_version": "1.2.0",
      "model_name": "LayoutModel",
      "state": {}
     },
     "73292c28aa3f484bb785335f02b95509": {
      "model_module": "@jupyter-widgets/controls",
      "model_module_version": "1.5.0",
      "model_name": "HBoxModel",
      "state": {
       "children": [
        "IPY_MODEL_1e02e02a329545519649b51aa733276c",
        "IPY_MODEL_9eac59e6304f4792828a393204cec6f6",
        "IPY_MODEL_232bf73daa9746bda241adc11d23be45"
       ],
       "layout": "IPY_MODEL_b6163a7dfcdf4083a71a7fd2bb483783"
      }
     },
     "8a83cb139613484f9525b57a5f6608b3": {
      "model_module": "@jupyter-widgets/controls",
      "model_module_version": "1.5.0",
      "model_name": "DescriptionStyleModel",
      "state": {
       "description_width": ""
      }
     },
     "954d4966dc334bef9bc97ebf588979ce": {
      "model_module": "@jupyter-widgets/base",
      "model_module_version": "1.2.0",
      "model_name": "LayoutModel",
      "state": {}
     },
     "99886d58e1864fe799b2cfa32d35e77e": {
      "model_module": "@jupyter-widgets/base",
      "model_module_version": "1.2.0",
      "model_name": "LayoutModel",
      "state": {}
     },
     "9eac59e6304f4792828a393204cec6f6": {
      "model_module": "@jupyter-widgets/controls",
      "model_module_version": "1.5.0",
      "model_name": "FloatProgressModel",
      "state": {
       "bar_style": "success",
       "layout": "IPY_MODEL_954d4966dc334bef9bc97ebf588979ce",
       "max": 466062,
       "style": "IPY_MODEL_4c3de2869899423ebd214153464e3030",
       "value": 466062
      }
     },
     "a17f01faa69c4c52919b78c84d99e005": {
      "model_module": "@jupyter-widgets/controls",
      "model_module_version": "1.5.0",
      "model_name": "DescriptionStyleModel",
      "state": {
       "description_width": ""
      }
     },
     "b6163a7dfcdf4083a71a7fd2bb483783": {
      "model_module": "@jupyter-widgets/base",
      "model_module_version": "1.2.0",
      "model_name": "LayoutModel",
      "state": {}
     },
     "cebe6bac285b4737847592da351d8b2a": {
      "model_module": "@jupyter-widgets/base",
      "model_module_version": "1.2.0",
      "model_name": "LayoutModel",
      "state": {}
     },
     "fa60245a05394190b5ec49f6c86343c0": {
      "model_module": "@jupyter-widgets/base",
      "model_module_version": "1.2.0",
      "model_name": "LayoutModel",
      "state": {}
     }
    },
    "version_major": 2,
    "version_minor": 0
   }
  }
 },
 "nbformat": 4,
 "nbformat_minor": 5
}
